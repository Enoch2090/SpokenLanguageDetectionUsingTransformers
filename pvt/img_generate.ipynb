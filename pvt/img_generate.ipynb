{
 "cells": [
  {
   "cell_type": "code",
   "execution_count": 33,
   "metadata": {},
   "outputs": [],
   "source": [
    "import torchaudio\n",
    "import matplotlib.pyplot as plt\n",
    "import os\n",
    "import librosa\n",
    "from tqdm import tqdm"
   ]
  },
  {
   "cell_type": "code",
   "execution_count": 24,
   "metadata": {},
   "outputs": [],
   "source": [
    "n_fft = 1024\n",
    "win_length = None\n",
    "hop_length = 512\n",
    "n_mels = 128\n",
    "\n",
    "mel_spectrogram = torchaudio.transforms.MelSpectrogram(\n",
    "    sample_rate=sample_rate,\n",
    "    n_fft=n_fft,\n",
    "    win_length=win_length,\n",
    "    hop_length=hop_length,\n",
    "    center=True,\n",
    "    pad_mode=\"reflect\",\n",
    "    power=2.0,\n",
    "    norm='slaney',\n",
    "    onesided=True,\n",
    "    n_mels=n_mels,\n",
    "    mel_scale=\"htk\",\n",
    ")"
   ]
  },
  {
   "cell_type": "code",
   "execution_count": 23,
   "metadata": {},
   "outputs": [],
   "source": [
    "def plot_save_spectrogram(spec, save_dir, title=None, ylabel=None, aspect='auto', xmax=None):\n",
    "    fig, axs = plt.subplots(1, 1)\n",
    "    axs.axis('off')\n",
    "    im = axs.imshow(librosa.power_to_db(spec), origin='lower', aspect=aspect)\n",
    "    if xmax:\n",
    "        axs.set_xlim((0, xmax))\n",
    "    # plt.show(block=False)\n",
    "    plt.savefig(save_dir)\n",
    "    plt.close()"
   ]
  },
  {
   "cell_type": "code",
   "execution_count": 36,
   "metadata": {},
   "outputs": [],
   "source": [
    "dirs = ['train', 'val']\n",
    "langs = os.listdir('./audio/train')"
   ]
  },
  {
   "cell_type": "code",
   "execution_count": 37,
   "metadata": {},
   "outputs": [
    {
     "name": "stderr",
     "output_type": "stream",
     "text": [
      "100%|██████████| 721/721 [00:35<00:00, 20.29it/s]\n",
      "100%|██████████| 310/310 [00:12<00:00, 25.46it/s]\n",
      "100%|██████████| 700/700 [00:26<00:00, 26.36it/s]\n",
      "100%|██████████| 300/300 [00:10<00:00, 28.70it/s]\n",
      "100%|██████████| 700/700 [00:28<00:00, 24.83it/s]\n",
      "100%|██████████| 300/300 [00:10<00:00, 28.46it/s]\n",
      "100%|██████████| 695/695 [00:28<00:00, 24.73it/s]\n",
      "100%|██████████| 298/298 [00:11<00:00, 26.87it/s]\n",
      "100%|██████████| 777/777 [00:37<00:00, 20.85it/s]\n",
      "100%|██████████| 334/334 [00:16<00:00, 20.69it/s]\n"
     ]
    }
   ],
   "source": [
    "for lang in langs:\n",
    "    for dir in dirs:\n",
    "        if not os.path.exists(f'./images/{dir}/{lang}'):\n",
    "            os.mkdir(f'./images/{dir}/{lang}')\n",
    "        for f in tqdm(os.listdir(f'./audio/{dir}/{lang}')):\n",
    "            waveform, sample_rate = torchaudio.load(f'./audio/{dir}/{lang}/{f}')\n",
    "            melspec = mel_spectrogram(waveform)\n",
    "            save_dir = f'./images/{dir}/{lang}/{f}'.replace('.wav', '.jpg')\n",
    "            plot_save_spectrogram(melspec[0], save_dir)"
   ]
  },
  {
   "cell_type": "code",
   "execution_count": null,
   "metadata": {},
   "outputs": [],
   "source": []
  }
 ],
 "metadata": {
  "interpreter": {
   "hash": "b3ba2566441a7c06988d0923437866b63cedc61552a5af99d1f4fb67d367b25f"
  },
  "kernelspec": {
   "display_name": "Python 3 (ipykernel)",
   "language": "python",
   "name": "python3"
  },
  "language_info": {
   "codemirror_mode": {
    "name": "ipython",
    "version": 3
   },
   "file_extension": ".py",
   "mimetype": "text/x-python",
   "name": "python",
   "nbconvert_exporter": "python",
   "pygments_lexer": "ipython3",
   "version": "3.8.10"
  }
 },
 "nbformat": 4,
 "nbformat_minor": 4
}
